{
 "cells": [
  {
   "cell_type": "code",
   "execution_count": 1,
   "metadata": {},
   "outputs": [],
   "source": [
    "import numpy as np\n",
    "import os"
   ]
  },
  {
   "cell_type": "code",
   "execution_count": 2,
   "metadata": {},
   "outputs": [],
   "source": [
    "def generate_array(n, eta=0.1, diag_mean=1, diag_var=0, off_mean=0, off_var=0.1):\n",
    "    binary = np.random.choice([0, 1], size=(n, n), p=[(1 - eta), eta])\n",
    "    noise = np.random.normal(off_mean, off_var, (n, n))\n",
    "    noise = noise * binary # element-wise multiplication\n",
    "    diag = np.random.normal(diag_mean, diag_var, n)\n",
    "    for i in range(n):\n",
    "        noise[i][i] = diag[i]\n",
    "    return noise"
   ]
  },
  {
   "cell_type": "code",
   "execution_count": 3,
   "metadata": {},
   "outputs": [],
   "source": [
    "def export_array(matrix, file_name, sparse=True):\n",
    "    n, _ = matrix.shape\n",
    "    entries = np.count_nonzero(matrix)\n",
    "    with open(file_name, mode=\"w\") as f:\n",
    "        f.write(f\"{n}\\n\")\n",
    "        f.write(f\"{entries}\\n\")\n",
    "        for i in range(n):\n",
    "            for j in range(n):\n",
    "                if matrix[i][j] != 0:\n",
    "                    f.write(f\"{i}, {j}, {matrix[i][j]}\\n\")\n",
    "\n",
    "def export_vector(vector, file_name):\n",
    "    n = len(vector)\n",
    "    with open(file_name, mode=\"w\") as f:\n",
    "        f.write(f\"{n}\\n\")\n",
    "        for i in range(n):\n",
    "            f.write(f\"{vector[i]}\")\n",
    "            if i < n - 1:\n",
    "                f.write(\", \")"
   ]
  },
  {
   "cell_type": "code",
   "execution_count": 4,
   "metadata": {},
   "outputs": [],
   "source": [
    "A_50 = generate_array(50, eta=0.1, diag_var=0.2)\n",
    "A_100 = generate_array(100, eta=0.1, diag_var=0.2)\n",
    "A_200 = generate_array(200, eta=0.05, diag_var=0.2)\n",
    "A_500 = generate_array(500, eta=0.05, diag_var=0.2)\n",
    "A_1000 = generate_array(1000, eta=0.02, diag_var=0.2)\n",
    "A_10_000 = generate_array(10_000, eta=0.002, diag_var=0.2)\n",
    "b_50 = np.random.uniform(-10, 10, 50)\n",
    "b_100 = np.random.normal(0, 10, 100)\n",
    "b_200 = np.random.uniform(-10, 10, 200)\n",
    "b_500 = np.random.normal(0, 10, 500)\n",
    "b_1000 = np.random.uniform(-10, 10, 1000)\n",
    "b_10_000 = np.random.normal(0, 10, 10_000)\n",
    "\n",
    "export_array(A_50, \"arrays/A-50-0.1.csv\")\n",
    "export_array(A_100, \"arrays/A-100-0.1.csv\")\n",
    "export_array(A_200, \"arrays/A-200-0.05.csv\")\n",
    "export_array(A_500, \"arrays/A-500-0.05.csv\")\n",
    "export_array(A_1000, \"arrays/A-1000-0.02.csv\")\n",
    "export_array(A_10_000, \"arrays/A-10_000-0.002.csv\")\n",
    "\n",
    "export_vector(b_50, \"arrays/b-50-uniform.csv\")\n",
    "export_vector(b_100, \"arrays/b-100-normal.csv\")\n",
    "export_vector(b_200, \"arrays/b-200-uniform.csv\")\n",
    "export_vector(b_500, \"arrays/b-500-normal.csv\")\n",
    "export_vector(b_1000, \"arrays/b-1000-uniform.csv\")\n",
    "export_vector(b_10_000, \"arrays/b-10_000-normal.csv\")"
   ]
  },
  {
   "cell_type": "code",
   "execution_count": 5,
   "metadata": {},
   "outputs": [],
   "source": [
    "import time"
   ]
  },
  {
   "cell_type": "code",
   "execution_count": 6,
   "metadata": {},
   "outputs": [],
   "source": [
    "def time_test(A, b, iter=1):\n",
    "    n, _ = A.shape\n",
    "    assert n == len(b)\n",
    "    start = time.time()\n",
    "    for i in range(iter):\n",
    "        np.linalg.solve(A, b)\n",
    "    end = time.time() - start\n",
    "    print(f\"Time test, {n}x{n} - {end / iter}s\")"
   ]
  },
  {
   "cell_type": "code",
   "execution_count": 7,
   "metadata": {},
   "outputs": [
    {
     "name": "stdout",
     "output_type": "stream",
     "text": [
      "Time test, 50x50 - 0.000630866527557373s\n",
      "Time test, 100x100 - 0.0005324149131774903s\n",
      "Time test, 200x200 - 0.0021605801582336424s\n",
      "Time test, 500x500 - 0.00879211187362671s\n",
      "Time test, 1000x1000 - 0.020190584659576415s\n"
     ]
    }
   ],
   "source": [
    "time_test(A_50, b_50, 1000)\n",
    "time_test(A_100, b_100, 1000)\n",
    "time_test(A_200, b_200, 100)\n",
    "time_test(A_500, b_500, 100)\n",
    "time_test(A_1000, b_1000, 20)\n",
    "time_test(A_10_000, b_10_000, 3)"
   ]
  }
 ],
 "metadata": {
  "kernelspec": {
   "display_name": "jupyter",
   "language": "python",
   "name": "python3"
  },
  "language_info": {
   "codemirror_mode": {
    "name": "ipython",
    "version": 3
   },
   "file_extension": ".py",
   "mimetype": "text/x-python",
   "name": "python",
   "nbconvert_exporter": "python",
   "pygments_lexer": "ipython3",
   "version": "3.10.13"
  }
 },
 "nbformat": 4,
 "nbformat_minor": 2
}
