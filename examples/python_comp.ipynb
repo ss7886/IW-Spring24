{
 "cells": [
  {
   "cell_type": "code",
   "execution_count": 14,
   "metadata": {},
   "outputs": [],
   "source": [
    "import numpy as np"
   ]
  },
  {
   "cell_type": "code",
   "execution_count": 15,
   "metadata": {},
   "outputs": [],
   "source": [
    "matrix1 = np.array([\n",
    "    [3, 1, 0, 0],\n",
    "    [2, 2.5, 0.5, 0],\n",
    "    [0, 0, 1, -0.5],\n",
    "    [0, 0, 1.2, 2.0]\n",
    "])\n",
    "\n",
    "matrix2 = np.array([\n",
    "    [1., 0, 0, 0],\n",
    "    [0, 1, 0, 0],\n",
    "    [0, 0, 1, 0],\n",
    "    [0, 0, 0, 1]\n",
    "])\n",
    "\n",
    "matrix3 = np.array([\n",
    "    [1.0, 0.24, 0, 0, 0, 0, 0, 0, 0, 0],\n",
    "    [0, 1.0, 0, 0, -0.2, 0, 0, 0, 0, 0],\n",
    "    [0, -0.5, 1.0, 0, 0.05, 0, 0, 0, 0, 0],\n",
    "    [0, 0, 0, 1.0, 0.1, 0, 0, 0, 0, 0],\n",
    "    [0, 0.78, 0, 0, 1.0, 0, 0, 0, 0, 0],\n",
    "    [0, 0, 0, -0.2, 0, 1.0, 0, 0, 0, 0],\n",
    "    [0, 0, 0, 0.6, 0, 0, 1.0, -0.423, 0, 0],\n",
    "    [0, 0, 0, 0, 0.05, 0, 0, 1.0, 0, 0],\n",
    "    [0, 0, 0, 0, 0, 0.34, 0, 0, 1.0, 0.95],\n",
    "    [0, 0, 0, 0, 0, 0, 0, 0, 0.95, 1.0]\n",
    "])\n",
    "\n",
    "b1 = np.array([4.3, 3.2, 2.2, 3.1])\n",
    "b2 = np.array([-2.2, 12.5, -0.2, 3.1])\n",
    "b3 = np.array([0.0, 1.0, 2.0, 4.0])\n",
    "b4 = np.array([-9.9, 8.8, -7.7, 6.6, -5.5, 4.4, -3.3, 2.2, -1.1, 0.05])"
   ]
  },
  {
   "cell_type": "code",
   "execution_count": 16,
   "metadata": {},
   "outputs": [
    {
     "name": "stdout",
     "output_type": "stream",
     "text": [
      "[ 1.58076923 -0.44230769  2.28846154  0.17692308]\n",
      "[-3.23251748  7.49755245  0.44230769  1.28461538]\n",
      "[ 0.02797203 -0.08391608  2.30769231  0.61538462]\n",
      "[4.3 3.2 2.2 3.1]\n",
      "[-2.2 12.5 -0.2  3.1]\n",
      "[0. 1. 2. 4.]\n",
      "[-11.49861592   6.66089965  -3.83477509   7.66955017 -10.69550173\n",
      "   5.93391003  -6.74492024   2.73477509 -32.46184012  30.88874811]\n"
     ]
    }
   ],
   "source": [
    "# 4x4\n",
    "print(np.linalg.solve(matrix1, b1))\n",
    "print(np.linalg.solve(matrix1, b2))\n",
    "print(np.linalg.solve(matrix1, b3))\n",
    "print(np.linalg.solve(matrix2, b1))\n",
    "print(np.linalg.solve(matrix2, b2))\n",
    "print(np.linalg.solve(matrix2, b3))\n",
    "\n",
    "# 10x10\n",
    "print(np.linalg.solve(matrix3, b4))"
   ]
  }
 ],
 "metadata": {
  "kernelspec": {
   "display_name": "jupyter",
   "language": "python",
   "name": "python3"
  },
  "language_info": {
   "codemirror_mode": {
    "name": "ipython",
    "version": 3
   },
   "file_extension": ".py",
   "mimetype": "text/x-python",
   "name": "python",
   "nbconvert_exporter": "python",
   "pygments_lexer": "ipython3",
   "version": "3.10.13"
  }
 },
 "nbformat": 4,
 "nbformat_minor": 2
}
